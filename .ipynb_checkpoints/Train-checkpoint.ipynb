{
 "cells": [
  {
   "cell_type": "code",
   "execution_count": 2,
   "metadata": {},
   "outputs": [
    {
     "name": "stderr",
     "output_type": "stream",
     "text": [
      "Using TensorFlow backend.\n"
     ]
    }
   ],
   "source": [
    "import numpy as np\n",
    "import pandas as pd\n",
    "from sklearn.utils import shuffle\n",
    "\n",
    "from keras.models import Sequential\n",
    "from keras.optimizers import Adam\n",
    "from keras.layers import Lambda, Conv2D, Dropout, Dense, Flatten\n",
    "from keras.callbacks import ModelCheckpoint\n",
    "from keras.utils import to_categorical\n",
    "\n",
    "from PIL import Image\n",
    "import os"
   ]
  },
  {
   "cell_type": "code",
   "execution_count": 3,
   "metadata": {},
   "outputs": [],
   "source": [
    "path = './data/'\n",
    "imgs_path = path + 'imgs/'\n",
    "\n",
    "file = path + 'data.csv'\n",
    "\n",
    "df = pd.read_csv(file, names=['img', 'left', 'nothing', 'right'])\n",
    "\n",
    "#df['steering'][1:] = df['steering'][1:].apply(lambda x: round(float(x)))\n",
    "df['left'][1:] = df['left'][1:].apply(lambda x: int(x))\n",
    "df['nothing'][1:] = df['nothing'][1:].apply(lambda x: int(x))\n",
    "df['right'][1:] = df['right'][1:].apply(lambda x: int(x))"
   ]
  },
  {
   "cell_type": "code",
   "execution_count": 15,
   "metadata": {},
   "outputs": [],
   "source": [
    "left = []\n",
    "nothing = []\n",
    "right = []\n",
    "\n",
    "for data in df.values[1:]:\n",
    "    img = data[0]\n",
    "    action = data[1:]\n",
    "    \n",
    "    if action[0] == 1:\n",
    "        left.append([img, [1, 0, 0]])\n",
    "    elif action[1] == 1:\n",
    "        nothing.append([img, [0, 1, 0]]) \n",
    "    elif action[2] == 1:\n",
    "        right.append([img, [0, 0, 1]])\n",
    "    else:\n",
    "        print(\"jio\")\n",
    "\n",
    "counter = [len(left), len(nothing), len(right)]"
   ]
  },
  {
   "cell_type": "code",
   "execution_count": 17,
   "metadata": {},
   "outputs": [],
   "source": [
    "limit = min(counter)"
   ]
  },
  {
   "cell_type": "code",
   "execution_count": 18,
   "metadata": {},
   "outputs": [],
   "source": [
    "left = left[:limit]\n",
    "nothing = nothing[:limit]\n",
    "right = right[:limit]"
   ]
  },
  {
   "cell_type": "code",
   "execution_count": 19,
   "metadata": {},
   "outputs": [],
   "source": [
    "training_data = left + nothing + right\n",
    "training_data = np.array(shuffle(training_data))"
   ]
  },
  {
   "cell_type": "code",
   "execution_count": 21,
   "metadata": {},
   "outputs": [],
   "source": [
    "training_df = pd.DataFrame(training_data)"
   ]
  },
  {
   "cell_type": "code",
   "execution_count": 23,
   "metadata": {},
   "outputs": [],
   "source": [
    "X, y = training_df[0], training_df[1]"
   ]
  },
  {
   "cell_type": "code",
   "execution_count": 24,
   "metadata": {},
   "outputs": [],
   "source": [
    "X_imgs = []\n",
    "for img in X.values:\n",
    "    im = Image.open(img)\n",
    "    X_imgs.append(np.array(im))\n",
    "    im.close()\n",
    "\n",
    "X = np.array(X_imgs)"
   ]
  },
  {
   "cell_type": "code",
   "execution_count": 25,
   "metadata": {},
   "outputs": [],
   "source": [
    "y_ = np.array([np.array(i) for i in y])\n",
    "\n",
    "#y = to_categorical(y_)"
   ]
  },
  {
   "cell_type": "code",
   "execution_count": 27,
   "metadata": {},
   "outputs": [
    {
     "name": "stderr",
     "output_type": "stream",
     "text": [
      "c:\\users\\javie\\appdata\\local\\programs\\python\\python37\\lib\\site-packages\\ipykernel_launcher.py:3: UserWarning: Update your `Conv2D` call to the Keras 2 API: `Conv2D(24, (5, 5), activation=\"elu\", strides=(2, 2))`\n",
      "  This is separate from the ipykernel package so we can avoid doing imports until\n",
      "c:\\users\\javie\\appdata\\local\\programs\\python\\python37\\lib\\site-packages\\ipykernel_launcher.py:4: UserWarning: Update your `Conv2D` call to the Keras 2 API: `Conv2D(36, (5, 5), activation=\"elu\", strides=(2, 2))`\n",
      "  after removing the cwd from sys.path.\n",
      "c:\\users\\javie\\appdata\\local\\programs\\python\\python37\\lib\\site-packages\\ipykernel_launcher.py:5: UserWarning: Update your `Conv2D` call to the Keras 2 API: `Conv2D(48, (5, 5), activation=\"elu\", strides=(2, 2))`\n",
      "  \"\"\"\n",
      "c:\\users\\javie\\appdata\\local\\programs\\python\\python37\\lib\\site-packages\\ipykernel_launcher.py:6: UserWarning: Update your `Conv2D` call to the Keras 2 API: `Conv2D(64, (3, 3), activation=\"elu\")`\n",
      "  \n",
      "c:\\users\\javie\\appdata\\local\\programs\\python\\python37\\lib\\site-packages\\ipykernel_launcher.py:7: UserWarning: Update your `Conv2D` call to the Keras 2 API: `Conv2D(64, (3, 3), activation=\"elu\")`\n",
      "  import sys\n"
     ]
    },
    {
     "name": "stdout",
     "output_type": "stream",
     "text": [
      "Train on 105 samples, validate on 27 samples\n",
      "Epoch 1/15\n",
      "105/105 [==============================] - 14s 132ms/step - loss: 4.1880 - accuracy: 0.4095 - val_loss: 4.6559 - val_accuracy: 0.5185\n",
      "\n",
      "Epoch 00001: val_loss improved from inf to 4.65588, saving model to ./data/models/model-001-0.409524-0.518519.h5\n",
      "Epoch 2/15\n",
      "105/105 [==============================] - 15s 140ms/step - loss: 3.7252 - accuracy: 0.5524 - val_loss: 2.6164 - val_accuracy: 0.4074\n",
      "\n",
      "Epoch 00002: val_loss improved from 4.65588 to 2.61637, saving model to ./data/models/model-002-0.552381-0.407407.h5\n",
      "Epoch 3/15\n",
      "105/105 [==============================] - 13s 128ms/step - loss: 1.2716 - accuracy: 0.6095 - val_loss: 2.1074 - val_accuracy: 0.4074\n",
      "\n",
      "Epoch 00003: val_loss improved from 2.61637 to 2.10740, saving model to ./data/models/model-003-0.609524-0.407407.h5\n",
      "Epoch 4/15\n",
      "105/105 [==============================] - 13s 124ms/step - loss: 2.1423 - accuracy: 0.6381 - val_loss: 1.2048 - val_accuracy: 0.2963\n",
      "\n",
      "Epoch 00004: val_loss improved from 2.10740 to 1.20476, saving model to ./data/models/model-004-0.638095-0.296296.h5\n",
      "Epoch 5/15\n",
      "105/105 [==============================] - 13s 125ms/step - loss: 0.9368 - accuracy: 0.5905 - val_loss: 1.6482 - val_accuracy: 0.4074\n",
      "\n",
      "Epoch 00005: val_loss did not improve from 1.20476\n",
      "Epoch 6/15\n",
      "105/105 [==============================] - 13s 125ms/step - loss: 0.7476 - accuracy: 0.7238 - val_loss: 2.1247 - val_accuracy: 0.3333\n",
      "\n",
      "Epoch 00006: val_loss did not improve from 1.20476\n",
      "Epoch 7/15\n",
      "105/105 [==============================] - 13s 124ms/step - loss: 0.9076 - accuracy: 0.6762 - val_loss: 1.4144 - val_accuracy: 0.5926\n",
      "\n",
      "Epoch 00007: val_loss did not improve from 1.20476\n",
      "Epoch 8/15\n",
      "105/105 [==============================] - 13s 125ms/step - loss: 0.5427 - accuracy: 0.8000 - val_loss: 0.9514 - val_accuracy: 0.5926\n",
      "\n",
      "Epoch 00008: val_loss improved from 1.20476 to 0.95141, saving model to ./data/models/model-008-0.800000-0.592593.h5\n",
      "Epoch 9/15\n",
      "105/105 [==============================] - 13s 123ms/step - loss: 0.4279 - accuracy: 0.8476 - val_loss: 1.1019 - val_accuracy: 0.6296\n",
      "\n",
      "Epoch 00009: val_loss did not improve from 0.95141\n",
      "Epoch 10/15\n",
      "105/105 [==============================] - 13s 124ms/step - loss: 0.4266 - accuracy: 0.8857 - val_loss: 1.8336 - val_accuracy: 0.5556\n",
      "\n",
      "Epoch 00010: val_loss did not improve from 0.95141\n",
      "Epoch 11/15\n",
      "105/105 [==============================] - 15s 140ms/step - loss: 0.2954 - accuracy: 0.8857 - val_loss: 1.0748 - val_accuracy: 0.6296\n",
      "\n",
      "Epoch 00011: val_loss did not improve from 0.95141\n",
      "Epoch 12/15\n",
      "105/105 [==============================] - 14s 135ms/step - loss: 0.2570 - accuracy: 0.9143 - val_loss: 0.8885 - val_accuracy: 0.6296\n",
      "\n",
      "Epoch 00012: val_loss improved from 0.95141 to 0.88852, saving model to ./data/models/model-012-0.914286-0.629630.h5\n",
      "Epoch 13/15\n",
      "105/105 [==============================] - 13s 127ms/step - loss: 0.1563 - accuracy: 0.9333 - val_loss: 1.1564 - val_accuracy: 0.5926\n",
      "\n",
      "Epoch 00013: val_loss did not improve from 0.88852\n",
      "Epoch 14/15\n",
      "105/105 [==============================] - 14s 138ms/step - loss: 0.1486 - accuracy: 0.9429 - val_loss: 1.0994 - val_accuracy: 0.5926\n",
      "\n",
      "Epoch 00014: val_loss did not improve from 0.88852\n",
      "Epoch 15/15\n",
      "105/105 [==============================] - 13s 129ms/step - loss: 0.2220 - accuracy: 0.9143 - val_loss: 0.9791 - val_accuracy: 0.6296\n",
      "\n",
      "Epoch 00015: val_loss did not improve from 0.88852\n"
     ]
    },
    {
     "data": {
      "text/plain": [
       "<keras.callbacks.callbacks.History at 0x27f5661b148>"
      ]
     },
     "execution_count": 27,
     "metadata": {},
     "output_type": "execute_result"
    }
   ],
   "source": [
    "model = Sequential()\n",
    "model.add(Lambda(lambda x: x/127.5-1.0, input_shape=(300, 800, 3)))\n",
    "model.add(Conv2D(24, 5, 5, activation='elu', subsample=(2, 2)))\n",
    "model.add(Conv2D(36, 5, 5, activation='elu', subsample=(2, 2)))\n",
    "model.add(Conv2D(48, 5, 5, activation='elu', subsample=(2, 2)))\n",
    "model.add(Conv2D(64, 3, 3, activation='elu'))\n",
    "model.add(Conv2D(64, 3, 3, activation='elu'))\n",
    "model.add(Dropout(0.5))\n",
    "model.add(Flatten())\n",
    "model.add(Dense(100, activation='elu'))\n",
    "model.add(Dense(50, activation='elu'))\n",
    "model.add(Dense(10, activation='elu'))\n",
    "model.add(Dense(3, activation='softmax'))\n",
    "\n",
    "model.compile(loss='categorical_crossentropy', optimizer='adam', metrics=['accuracy'])\n",
    "\n",
    "model_json = model.to_json()\n",
    "with open(\"./data/models/model.json\", \"w\") as json_file:\n",
    "    json_file.write(model_json)\n",
    "\n",
    "checkpoint = ModelCheckpoint('./data/models/model-{epoch:03d}-{accuracy:03f}-{val_accuracy:03f}.h5', verbose=1, monitor='val_loss', save_best_only=True, mode='auto')  \n",
    "\n",
    "model.fit(X, y_, batch_size=6, epochs=15, validation_split=0.2, callbacks=[checkpoint], verbose=1)"
   ]
  }
 ],
 "metadata": {
  "kernelspec": {
   "display_name": "Python 3",
   "language": "python",
   "name": "python3"
  },
  "language_info": {
   "codemirror_mode": {
    "name": "ipython",
    "version": 3
   },
   "file_extension": ".py",
   "mimetype": "text/x-python",
   "name": "python",
   "nbconvert_exporter": "python",
   "pygments_lexer": "ipython3",
   "version": "3.7.5"
  }
 },
 "nbformat": 4,
 "nbformat_minor": 4
}
